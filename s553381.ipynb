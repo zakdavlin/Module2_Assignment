{
 "cells": [
  {
   "cell_type": "markdown",
   "id": "cdc9ce78-4903-4d02-a9ea-50d4a0838115",
   "metadata": {},
   "source": [
    "Zak Davlin\n"
   ]
  },
  {
   "cell_type": "code",
   "execution_count": 17,
   "id": "a9e09aac-577d-4fa1-8bd8-35a25da7edaf",
   "metadata": {},
   "outputs": [
    {
     "name": "stdout",
     "output_type": "stream",
     "text": [
      "*      *\n",
      "**    **\n",
      "***  ***\n",
      "********\n"
     ]
    }
   ],
   "source": [
    "for x in range (1,5):\n",
    "    a='*'\n",
    "    b=' '\n",
    "    print(a*x+b*(8+(x*-2))+a*x)"
   ]
  },
  {
   "cell_type": "code",
   "execution_count": null,
   "id": "3797b170-5a7f-4410-b81e-4abb0bb4ac4f",
   "metadata": {},
   "outputs": [],
   "source": []
  }
 ],
 "metadata": {
  "kernelspec": {
   "display_name": "Python 3 (ipykernel)",
   "language": "python",
   "name": "python3"
  },
  "language_info": {
   "codemirror_mode": {
    "name": "ipython",
    "version": 3
   },
   "file_extension": ".py",
   "mimetype": "text/x-python",
   "name": "python",
   "nbconvert_exporter": "python",
   "pygments_lexer": "ipython3",
   "version": "3.9.12"
  }
 },
 "nbformat": 4,
 "nbformat_minor": 5
}
