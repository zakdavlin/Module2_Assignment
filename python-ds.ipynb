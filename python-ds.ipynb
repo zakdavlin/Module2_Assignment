{
 "cells": [
  {
   "cell_type": "markdown",
   "metadata": {},
   "source": [
    "# Web Mining and Applied NLP (44-620)\n",
    "\n",
    "## Python Notebooks, Basics, and Data Structures\n",
    "\n",
    "### Student Name: Zak Davlin\n",
    "\n",
    "Perform the tasks described in the Markdown cells below.  When you have completed the assignment make sure your code cells have all been run (and have output beneath them) and ensure you have committed and pushed ALL of your changes to your assignment repository.\n",
    "\n",
    "Every question that requires you to write code will have a code cell underneath it; you may either write your entire solution in that cell or write it in a python file (`.py`), then import and run the appropriate code to answer the question.\n",
    "\n",
    "Do not use external modules (`math`, etc) for this assignment unless you are explicitly instructed to, though you may use built in python functions (`min`, `max`, etc) as you wish."
   ]
  },
  {
   "cell_type": "markdown",
   "metadata": {},
   "source": [
    "1. Modify the Markdown cell above to put your name after \"Student Name:\"; you will be expected to do this in all assignments presented in this format for this class."
   ]
  },
  {
   "cell_type": "markdown",
   "metadata": {},
   "source": [
    "2. Write code that divides any two numbers, stores the result in a variable, and prints the result with an appropriate label."
   ]
  },
  {
   "cell_type": "code",
   "execution_count": 6,
   "metadata": {},
   "outputs": [
    {
     "name": "stdout",
     "output_type": "stream",
     "text": [
      "50.5\n"
     ]
    }
   ],
   "source": [
    "def divider(x,y):\n",
    "    a=x/y\n",
    "    return(print(a))\n",
    "divider(101,2)"
   ]
  },
  {
   "cell_type": "markdown",
   "metadata": {},
   "source": [
    "3. Using loops (and potentially conditionals), write Python code that prints the factorial of each integer from 1 through 10 (which you can store in a variable if you want). The factorial of an integer is the product of all of the integers of 1 through the number. Print the result with an appropriate label."
   ]
  },
  {
   "cell_type": "code",
   "execution_count": 20,
   "metadata": {},
   "outputs": [
    {
     "name": "stdout",
     "output_type": "stream",
     "text": [
      "[1, 2, 6, 24, 120, 720, 5040, 40320, 362880, 3628800]\n"
     ]
    }
   ],
   "source": [
    "factorial_list=[]\n",
    "factorial=1\n",
    "for i in range(1,11):\n",
    "    factorial=factorial*i\n",
    "    factorial_list.append(factorial)\n",
    "print(factorial_list)"
   ]
  },
  {
   "cell_type": "markdown",
   "metadata": {},
   "source": [
    "4. Write a python function that takes a single parameter and calculates and returns the average (mean) of the values in the parameter (which you may assume is iterable).  Show that your function works by printing the result of calling the function on the list in the cell below."
   ]
  },
  {
   "cell_type": "code",
   "execution_count": 23,
   "metadata": {},
   "outputs": [
    {
     "name": "stdout",
     "output_type": "stream",
     "text": [
      "0.0\n"
     ]
    }
   ],
   "source": [
    "def meanfun(list1):\n",
    "    sum1=0\n",
    "    for x in list1:\n",
    "        sum1=sum1+x\n",
    "    return sum1/len(list1)\n",
    "    \n",
    "testlist = [1,-1,2,-2,3,-3,4,-4]\n",
    "print(meanfun(testlist))"
   ]
  },
  {
   "cell_type": "markdown",
   "metadata": {},
   "source": [
    "5. Using your mean function above, write a function that calculates the variance of the list of numbers (see https://en.wikipedia.org/wiki/Variance for more information on the formula). In short:\n",
    "* subtract the mean of the elements in the list from every element in the list; store these values in a new list\n",
    "* square every element in the new list and sum the elements together\n",
    "* divide the resulting number by N (where N is the length of the original list)\n",
    "\n",
    "Show the result of calling your function in the lists in the code cell. You must use one or more list comprehensions or map/filter in your code.\n"
   ]
  },
  {
   "cell_type": "code",
   "execution_count": 46,
   "metadata": {},
   "outputs": [
    {
     "name": "stdout",
     "output_type": "stream",
     "text": [
      "(1.13973309, 11.3973309)\n",
      "(0.9257232841, 9.257232841)\n"
     ]
    }
   ],
   "source": [
    "def meanfun(list1):\n",
    "    sum1=0\n",
    "    for x in list1:\n",
    "        sum1=sum1+x\n",
    "    return sum1/len(list1)\n",
    "\n",
    "def variance(list2):\n",
    "    mean=meanfun(list2)\n",
    "    list3=[]\n",
    "    sum1=0\n",
    "    ## first loop used to subtract mean from elements\n",
    "    for i in range(len(list2)):\n",
    "        x=list2[i]-mean\n",
    "        list3.append(x*x)\n",
    "    ## sum function\n",
    "    for i in list3:\n",
    "        sum1=i+sum1\n",
    "    ## final division\n",
    "    var=sum1/len(list2)\n",
    "    return var,sum1\n",
    "\n",
    "    \n",
    "list1 = [ 5.670e-1, -1.480e+0, -5.570e-1, -1.470e+0, 7.340e-1, 1.050e+0, 4.480e-1, 2.570e-1, -1.970e+0, -1.460e+0]\n",
    "list2 = [-1.780e+0, 2.640e-1, 1.160e+0, 9.080e-1, 1.780e+0, 1.080e+0, 1.050e+0, -4.630e-2, 1.520e+0, 5.350e-1]\n",
    "print(variance(list1))\n",
    "print(variance(list2))\n",
    "# the variances of both lists should be relatively close to 1 (off by less than .15)"
   ]
  },
  {
   "cell_type": "markdown",
   "metadata": {},
   "source": [
    "6. Create a list with at least 15 elements in it. Use list slicing to print the following:\n",
    "* The first 5 elements of the list\n",
    "* The last 5 elements of the list\n",
    "* The list reversed (hint, show the entire list with a stride of -1)\n",
    "* Every second element in the list\n",
    "* Every third element in the list (stride of 3)"
   ]
  },
  {
   "cell_type": "code",
   "execution_count": 65,
   "metadata": {},
   "outputs": [
    {
     "name": "stdout",
     "output_type": "stream",
     "text": [
      "[0, 1, 2, 3, 4, 5, 6, 7, 8, 9, 10, 11, 12, 13, 14]\n",
      "[0, 1, 2, 3, 4]\n",
      "[10, 11, 12, 13, 14]\n",
      "[14, 13, 12, 11, 10, 9, 8, 7, 6, 5, 4, 3, 2, 1, 0]\n",
      "[0, 2, 4, 6, 8, 10, 12, 14]\n",
      "[0, 3, 6, 9, 12]\n"
     ]
    }
   ],
   "source": [
    "a=[x for x in range(0,15)]\n",
    "print(a)\n",
    "## first 5 elements\n",
    "print(a[0:5:1])\n",
    "## last 5 elements\n",
    "print(a[10:15:1])\n",
    "## Uno Reverse\n",
    "print(a[::-1])\n",
    "##Every second Element\n",
    "print(a[0:15:2])\n",
    "## by 3\n",
    "print(a[0:15:3])\n",
    "    "
   ]
  },
  {
   "cell_type": "markdown",
   "metadata": {},
   "source": [
    "7. Build a dictionary that contains the following information about this class (with appropriate names as keys):\n",
    "* The name\n",
    "* The course number\n",
    "* The semester/term in which you are taking this course\n",
    "* The number of credit hours this course counts for\n",
    "* A list of the course learning objectives\n",
    "\n",
    "The majority of this information can be found in the syllabus. Print the dictionary."
   ]
  },
  {
   "cell_type": "code",
   "execution_count": 70,
   "metadata": {},
   "outputs": [
    {
     "name": "stdout",
     "output_type": "stream",
     "text": [
      "{'course name': 'WEB MINING & APPLIED NLP', 'course number': '44-620', 'semester': 'Fall Session 2', 'Credit Hours': 3, 'course objectives': 'Manage Python libraries and packages,Interact with Hosted Version Control Systems (e.g. Git and GitHub),Programmatically obtain and transform data from web-based APIs and HTML pages into a usable form.,Describe the steps in a basic Natural Language Processing Pipeline,Use preexisting tools and software libraries to perform some Natural Language Processing, such as sentiment analysis.,Explain results and conclusions drawn from the visualized information.'}\n"
     ]
    }
   ],
   "source": [
    "classdict={'course name':'WEB MINING & APPLIED NLP','course number':'44-620','semester':'Fall Session 2', 'Credit Hours':3,'course objectives':\n",
    "           'Manage Python libraries and packages,Interact with Hosted Version Control Systems (e.g. Git and GitHub),Programmatically obtain and transform data from web-based APIs and HTML pages into a usable form.,Describe the steps in a basic Natural Language Processing Pipeline,Use preexisting tools and software libraries to perform some Natural Language Processing, such as sentiment analysis.,Explain results and conclusions drawn from the visualized information.'}\n",
    "\n",
    "print(classdict)"
   ]
  },
  {
   "cell_type": "markdown",
   "metadata": {},
   "source": [
    "8.  Given the dictionary defined in the code cell below, print the list of level 3 spells the character has."
   ]
  },
  {
   "cell_type": "code",
   "execution_count": 85,
   "metadata": {},
   "outputs": [
    {
     "name": "stdout",
     "output_type": "stream",
     "text": [
      "['Mass Healing Word', 'Nondetection', 'Revivify', 'Feign Death', 'Speak with Dead']\n"
     ]
    }
   ],
   "source": [
    "player_character = {'name': 'Kitab',\n",
    "                   'class': [('Cleric: Knowledge', 7)],\n",
    "                   'spells': {'cantrip': ['Guidance', 'Light', 'Thaumaturgy', 'Toll the Dead', 'Word of Radiance'],\n",
    "                             'level 1': ['Command', 'Detect Magic', 'Healing Word', 'Identify', 'Sleep'],\n",
    "                             'level 2': ['Augury', 'Calm Emotions', 'Command', 'Invisibility', 'Lesser Restoration'],\n",
    "                             'level 3': ['Mass Healing Word', 'Nondetection', 'Revivify', 'Feign Death', 'Speak with Dead'],\n",
    "                             'level 4': ['Banishment', 'Confusion']}\n",
    "                   }\n",
    "print(player_character['spells']['level 3'])"
   ]
  },
  {
   "cell_type": "markdown",
   "metadata": {},
   "source": [
    "9. Write code to determine the number of unique elements in the list below.  You MUST use a set in finding your solution.  Print the number of unique values in the list with an appropriate label."
   ]
  },
  {
   "cell_type": "code",
   "execution_count": 6,
   "metadata": {},
   "outputs": [
    {
     "name": "stdout",
     "output_type": "stream",
     "text": [
      "The number of unique values in the list is 12\n"
     ]
    }
   ],
   "source": [
    "values = [10, 11, 10, 8, 1, 12, 0, 1, 6, 5, 5, 13, 6, 15, 0, 0, 1, 1, 9, 7]\n",
    "values2=[x for x in range(0,16)]\n",
    "seta=set(values)\n",
    "setb=set(values2)\n",
    "setc=seta&setb\n",
    "print(\"The number of unique values in the list is \" + str(len(setc)))\n"
   ]
  },
  {
   "cell_type": "markdown",
   "metadata": {},
   "source": [
    "10. Create a new Jupyter Notebook (the name of the notebook should be your S number). Add a Markdown cell that contains your name. Add a Code cell and write Python that uses loops to draw the following pattern:\n",
    "\n",
    "```\n",
    "*      *\n",
    "**    **\n",
    "***  ***\n",
    "********\n",
    "```\n",
    "Make sure to add and submit both the new notebook and the changes to this notebook for this assignment."
   ]
  }
 ],
 "metadata": {
  "kernelspec": {
   "display_name": "Python 3 (ipykernel)",
   "language": "python",
   "name": "python3"
  },
  "language_info": {
   "codemirror_mode": {
    "name": "ipython",
    "version": 3
   },
   "file_extension": ".py",
   "mimetype": "text/x-python",
   "name": "python",
   "nbconvert_exporter": "python",
   "pygments_lexer": "ipython3",
   "version": "3.9.12"
  }
 },
 "nbformat": 4,
 "nbformat_minor": 4
}
